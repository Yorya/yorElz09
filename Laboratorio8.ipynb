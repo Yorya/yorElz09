{
  "nbformat": 4,
  "nbformat_minor": 0,
  "metadata": {
    "colab": {
      "name": "Laboratorio8.ipynb",
      "provenance": [],
      "authorship_tag": "ABX9TyMNtgZStZRbz2C8CLvP6vcn",
      "include_colab_link": true
    },
    "kernelspec": {
      "name": "python3",
      "display_name": "Python 3"
    },
    "language_info": {
      "name": "python"
    }
  },
  "cells": [
    {
      "cell_type": "markdown",
      "metadata": {
        "id": "view-in-github",
        "colab_type": "text"
      },
      "source": [
        "<a href=\"https://colab.research.google.com/github/Yorya/yorElz09/blob/main/Laboratorio8.ipynb\" target=\"_parent\"><img src=\"https://colab.research.google.com/assets/colab-badge.svg\" alt=\"Open In Colab\"/></a>"
      ]
    },
    {
      "cell_type": "markdown",
      "source": [
        "Laboratorio #8-Intro al análisis de datos"
      ],
      "metadata": {
        "id": "7lNmOsrtCFmt"
      }
    },
    {
      "cell_type": "code",
      "source": [
        "import pandas as pd\n",
        "\n",
        "from google.colab import auth\n",
        "auth.authenticate_user()\n",
        "\n",
        "import gspread\n",
        "from google.auth import default\n",
        "creds, _ = default()\n",
        "\n",
        "gc=gspread.authorize(creds)\n",
        "sh=gc.create('Yorgina')\n",
        "\n"
      ],
      "metadata": {
        "id": "McMvhY0wCNFJ"
      },
      "execution_count": 2,
      "outputs": []
    },
    {
      "cell_type": "markdown",
      "source": [
        "Números aleatorios"
      ],
      "metadata": {
        "id": "DwJKe4gnFxKJ"
      }
    },
    {
      "cell_type": "code",
      "source": [
        "worksheet=gc.open('Yorgina').sheet1\n",
        "cell_list=worksheet.range('A1:G10')\n",
        "\n",
        "import random\n",
        "for cell in cell_list:\n",
        "  cell.value=random.randint(1,10)\n",
        "\n",
        "  worksheet.update_cells(cell_list)\n",
        "\n"
      ],
      "metadata": {
        "id": "9-UzAPiPEiRw"
      },
      "execution_count": 4,
      "outputs": []
    },
    {
      "cell_type": "code",
      "source": [
        "worksheet=gc.open('Yorgina').sheet1\n",
        "rows=worksheet.get_all_values()\n",
        "print(rows)\n"
      ],
      "metadata": {
        "colab": {
          "base_uri": "https://localhost:8080/"
        },
        "id": "I-cBYunOH1ir",
        "outputId": "e2922e84-f8eb-4d4c-c7b4-f506cff1f044"
      },
      "execution_count": 5,
      "outputs": [
        {
          "output_type": "stream",
          "name": "stdout",
          "text": [
            "[['3', '9', '4', '5', '5', '4', '6'], ['1', '3', '3', '4', '10', '6', '3'], ['5', '9', '8', '4', '7', '2', '3'], ['1', '4', '2', '7', '9', '6', '5'], ['7', '2', '2', '6', '7', '6', '10'], ['3', '7', '2', '7', '8', '1', '8'], ['8', '1', '7', '10', '5', '4', '6'], ['9', '8', '3', '3', '10', '5', '6'], ['6', '2', '9', '1', '7', '4', '9'], ['4', '8', '7', '4', '10', '8', '5']]\n"
          ]
        }
      ]
    }
  ]
}